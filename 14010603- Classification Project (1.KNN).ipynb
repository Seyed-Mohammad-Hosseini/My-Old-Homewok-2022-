{
 "cells": [
  {
   "cell_type": "markdown",
   "id": "28e344a6",
   "metadata": {},
   "source": [
    "# سلام و احترام\n",
    "## من برای انجام این پروژه از تکنیک های مختلف کلاس بندی استفاده میکنم و با ارزیابی بهترین تکنیک را شناسایی میکنم"
   ]
  },
  {
   "cell_type": "markdown",
   "id": "fd239453",
   "metadata": {},
   "source": [
    "## KNN"
   ]
  },
  {
   "cell_type": "code",
   "execution_count": 1,
   "id": "4a76899f",
   "metadata": {
    "collapsed": true
   },
   "outputs": [
    {
     "name": "stdout",
     "output_type": "stream",
     "text": [
      "Collecting scikit-learn==0.23.1Note: you may need to restart the kernel to use updated packages.\n"
     ]
    },
    {
     "name": "stderr",
     "output_type": "stream",
     "text": [
      "  ERROR: Command errored out with exit status 1:"
     ]
    },
    {
     "name": "stdout",
     "output_type": "stream",
     "text": [
      "\n",
      "  Using cached scikit-learn-0.23.1.tar.gz (7.2 MB)\n",
      "  Installing build dependencies: started\n",
      "  Installing build dependencies: finished with status 'error'\n"
     ]
    },
    {
     "name": "stderr",
     "output_type": "stream",
     "text": [
      "\n",
      "   command: 'C:\\Users\\Mohammad\\anaconda3\\python.exe' 'C:\\Users\\Mohammad\\AppData\\Local\\Temp\\pip-standalone-pip-fvvf5gj6\\__env_pip__.zip\\pip' install --ignore-installed --no-user --prefix 'C:\\Users\\Mohammad\\AppData\\Local\\Temp\\pip-build-env-jf3cp30_\\overlay' --no-warn-script-location --no-binary :none: --only-binary :none: -i https://pypi.org/simple -- setuptools wheel 'Cython>=0.28.5' 'numpy==1.13.3; python_version=='\"'\"'3.6'\"'\"' and platform_system!='\"'\"'AIX'\"'\"' and platform_python_implementation == '\"'\"'CPython'\"'\"'' 'numpy==1.14.0; python_version=='\"'\"'3.6'\"'\"' and platform_system!='\"'\"'AIX'\"'\"' and platform_python_implementation != '\"'\"'CPython'\"'\"'' 'numpy==1.14.5; python_version=='\"'\"'3.7'\"'\"' and platform_system!='\"'\"'AIX'\"'\"'' 'numpy==1.17.3; python_version>='\"'\"'3.8'\"'\"' and platform_system!='\"'\"'AIX'\"'\"'' 'numpy==1.16.0; python_version=='\"'\"'3.6'\"'\"' and platform_system=='\"'\"'AIX'\"'\"'' 'numpy==1.16.0; python_version=='\"'\"'3.7'\"'\"' and platform_system=='\"'\"'AIX'\"'\"'' 'numpy==1.17.3; python_version>='\"'\"'3.8'\"'\"' and platform_system=='\"'\"'AIX'\"'\"'' 'scipy>=0.19.1'\n",
      "       cwd: None\n",
      "  Complete output (596 lines):\n",
      "  Ignoring numpy: markers 'python_version == \"3.6\" and platform_system != \"AIX\" and platform_python_implementation == \"CPython\"' don't match your environment\n",
      "  Ignoring numpy: markers 'python_version == \"3.6\" and platform_system != \"AIX\" and platform_python_implementation != \"CPython\"' don't match your environment\n",
      "  Ignoring numpy: markers 'python_version == \"3.7\" and platform_system != \"AIX\"' don't match your environment\n",
      "  Ignoring numpy: markers 'python_version == \"3.6\" and platform_system == \"AIX\"' don't match your environment\n",
      "  Ignoring numpy: markers 'python_version == \"3.7\" and platform_system == \"AIX\"' don't match your environment\n",
      "  Ignoring numpy: markers 'python_version >= \"3.8\" and platform_system == \"AIX\"' don't match your environment\n",
      "  Collecting setuptools\n",
      "    Downloading setuptools-65.3.0-py3-none-any.whl (1.2 MB)\n",
      "  Collecting wheel\n",
      "    Using cached wheel-0.37.1-py2.py3-none-any.whl (35 kB)\n",
      "  Collecting Cython>=0.28.5\n",
      "    Using cached Cython-0.29.32-py2.py3-none-any.whl (986 kB)\n",
      "  Collecting numpy==1.17.3\n",
      "    Using cached numpy-1.17.3.zip (6.4 MB)\n",
      "  Collecting scipy>=0.19.1\n",
      "    Using cached scipy-1.9.0-cp39-cp39-win_amd64.whl (38.6 MB)\n",
      "    Using cached scipy-1.8.1-cp39-cp39-win_amd64.whl (36.9 MB)\n",
      "  Building wheels for collected packages: numpy\n",
      "    Building wheel for numpy (setup.py): started\n",
      "    Building wheel for numpy (setup.py): finished with status 'error'\n",
      "    ERROR: Command errored out with exit status 1:\n",
      "     command: 'C:\\Users\\Mohammad\\anaconda3\\python.exe' -u -c 'import io, os, sys, setuptools, tokenize; sys.argv[0] = '\"'\"'C:\\\\Users\\\\Mohammad\\\\AppData\\\\Local\\\\Temp\\\\pip-install-pxoxjwf8\\\\numpy_5c4d335c53894b4ba158cba4602d2203\\\\setup.py'\"'\"'; __file__='\"'\"'C:\\\\Users\\\\Mohammad\\\\AppData\\\\Local\\\\Temp\\\\pip-install-pxoxjwf8\\\\numpy_5c4d335c53894b4ba158cba4602d2203\\\\setup.py'\"'\"';f = getattr(tokenize, '\"'\"'open'\"'\"', open)(__file__) if os.path.exists(__file__) else io.StringIO('\"'\"'from setuptools import setup; setup()'\"'\"');code = f.read().replace('\"'\"'\\r\\n'\"'\"', '\"'\"'\\n'\"'\"');f.close();exec(compile(code, __file__, '\"'\"'exec'\"'\"'))' bdist_wheel -d 'C:\\Users\\Mohammad\\AppData\\Local\\Temp\\pip-wheel-uzb0kjak'\n",
      "         cwd: C:\\Users\\Mohammad\\AppData\\Local\\Temp\\pip-install-pxoxjwf8\\numpy_5c4d335c53894b4ba158cba4602d2203\\\n",
      "    Complete output (268 lines):\n",
      "    Running from numpy source directory.\n",
      "    blas_opt_info:\n",
      "    blas_mkl_info:\n",
      "    No module named 'numpy.distutils._msvccompiler' in numpy.distutils; trying from distutils\n",
      "    customize MSVCCompiler\n",
      "      libraries mkl_rt not found in ['C:\\\\Users\\\\Mohammad\\\\anaconda3\\\\lib', 'C:\\\\', 'C:\\\\Users\\\\Mohammad\\\\anaconda3\\\\libs']\n",
      "      NOT AVAILABLE\n",
      "  \n",
      "    blis_info:\n",
      "    No module named 'numpy.distutils._msvccompiler' in numpy.distutils; trying from distutils\n",
      "    customize MSVCCompiler\n",
      "      libraries blis not found in ['C:\\\\Users\\\\Mohammad\\\\anaconda3\\\\lib', 'C:\\\\', 'C:\\\\Users\\\\Mohammad\\\\anaconda3\\\\libs']\n",
      "      NOT AVAILABLE\n",
      "  \n",
      "    openblas_info:\n",
      "    No module named 'numpy.distutils._msvccompiler' in numpy.distutils; trying from distutils\n",
      "    customize MSVCCompiler\n",
      "    No module named 'numpy.distutils._msvccompiler' in numpy.distutils; trying from distutils\n",
      "    customize MSVCCompiler\n",
      "      libraries openblas not found in ['C:\\\\Users\\\\Mohammad\\\\anaconda3\\\\lib', 'C:\\\\', 'C:\\\\Users\\\\Mohammad\\\\anaconda3\\\\libs']\n",
      "    get_default_fcompiler: matching types: '['gnu', 'intelv', 'absoft', 'compaqv', 'intelev', 'gnu95', 'g95', 'intelvem', 'intelem', 'flang']'\n",
      "    customize GnuFCompiler\n",
      "    Could not locate executable g77\n",
      "    Could not locate executable f77\n",
      "    customize IntelVisualFCompiler\n",
      "    Could not locate executable ifort\n",
      "    Could not locate executable ifl\n",
      "    customize AbsoftFCompiler\n",
      "    Could not locate executable f90\n",
      "    customize CompaqVisualFCompiler\n",
      "    Could not locate executable DF\n",
      "    customize IntelItaniumVisualFCompiler\n",
      "    Could not locate executable efl\n",
      "    customize Gnu95FCompiler\n",
      "    Could not locate executable gfortran\n",
      "    Could not locate executable f95\n",
      "    customize G95FCompiler\n",
      "    Could not locate executable g95\n",
      "    customize IntelEM64VisualFCompiler\n",
      "    customize IntelEM64TFCompiler\n",
      "    Could not locate executable efort\n",
      "    Could not locate executable efc\n",
      "    customize PGroupFlangCompiler\n",
      "    Could not locate executable flang\n",
      "    don't know how to compile Fortran code on platform 'nt'\n",
      "      NOT AVAILABLE\n",
      "  \n",
      "    atlas_3_10_blas_threads_info:\n",
      "    Setting PTATLAS=ATLAS\n",
      "    No module named 'numpy.distutils._msvccompiler' in numpy.distutils; trying from distutils\n",
      "    customize MSVCCompiler\n",
      "      libraries tatlas not found in ['C:\\\\Users\\\\Mohammad\\\\anaconda3\\\\lib', 'C:\\\\', 'C:\\\\Users\\\\Mohammad\\\\anaconda3\\\\libs']\n",
      "      NOT AVAILABLE\n",
      "  \n",
      "    atlas_3_10_blas_info:\n",
      "    No module named 'numpy.distutils._msvccompiler' in numpy.distutils; trying from distutils\n",
      "    customize MSVCCompiler\n",
      "      libraries satlas not found in ['C:\\\\Users\\\\Mohammad\\\\anaconda3\\\\lib', 'C:\\\\', 'C:\\\\Users\\\\Mohammad\\\\anaconda3\\\\libs']\n",
      "      NOT AVAILABLE\n",
      "  \n",
      "    atlas_blas_threads_info:\n",
      "    Setting PTATLAS=ATLAS\n",
      "    No module named 'numpy.distutils._msvccompiler' in numpy.distutils; trying from distutils\n",
      "    customize MSVCCompiler\n",
      "      libraries ptf77blas,ptcblas,atlas not found in ['C:\\\\Users\\\\Mohammad\\\\anaconda3\\\\lib', 'C:\\\\', 'C:\\\\Users\\\\Mohammad\\\\anaconda3\\\\libs']\n",
      "      NOT AVAILABLE\n",
      "  \n",
      "    atlas_blas_info:\n",
      "    No module named 'numpy.distutils._msvccompiler' in numpy.distutils; trying from distutils\n",
      "    customize MSVCCompiler\n",
      "      libraries f77blas,cblas,atlas not found in ['C:\\\\Users\\\\Mohammad\\\\anaconda3\\\\lib', 'C:\\\\', 'C:\\\\Users\\\\Mohammad\\\\anaconda3\\\\libs']\n",
      "      NOT AVAILABLE\n",
      "  \n",
      "    accelerate_info:\n",
      "      NOT AVAILABLE\n",
      "  \n",
      "    C:\\Users\\Mohammad\\AppData\\Local\\Temp\\pip-install-pxoxjwf8\\numpy_5c4d335c53894b4ba158cba4602d2203\\numpy\\distutils\\system_info.py:690: UserWarning:\n",
      "        Optimized (vendor) Blas libraries are not found.\n",
      "        Falls back to netlib Blas library which has worse performance.\n",
      "        A better performance should be easily gained by switching\n",
      "        Blas library.\n",
      "      self.calc_info()\n",
      "    blas_info:\n",
      "    No module named 'numpy.distutils._msvccompiler' in numpy.distutils; trying from distutils\n",
      "    customize MSVCCompiler\n",
      "      libraries blas not found in ['C:\\\\Users\\\\Mohammad\\\\anaconda3\\\\lib', 'C:\\\\', 'C:\\\\Users\\\\Mohammad\\\\anaconda3\\\\libs']\n",
      "      NOT AVAILABLE\n",
      "  \n",
      "    C:\\Users\\Mohammad\\AppData\\Local\\Temp\\pip-install-pxoxjwf8\\numpy_5c4d335c53894b4ba158cba4602d2203\\numpy\\distutils\\system_info.py:690: UserWarning:\n",
      "        Blas (http://www.netlib.org/blas/) libraries not found.\n",
      "        Directories to search for the libraries can be specified in the\n",
      "        numpy/distutils/site.cfg file (section [blas]) or by setting\n",
      "        the BLAS environment variable.\n",
      "      self.calc_info()\n",
      "    blas_src_info:\n",
      "      NOT AVAILABLE\n",
      "  \n",
      "    C:\\Users\\Mohammad\\AppData\\Local\\Temp\\pip-install-pxoxjwf8\\numpy_5c4d335c53894b4ba158cba4602d2203\\numpy\\distutils\\system_info.py:690: UserWarning:\n",
      "        Blas (http://www.netlib.org/blas/) sources not found.\n",
      "        Directories to search for the sources can be specified in the\n",
      "        numpy/distutils/site.cfg file (section [blas_src]) or by setting\n",
      "        the BLAS_SRC environment variable.\n",
      "      self.calc_info()\n",
      "      NOT AVAILABLE\n",
      "  \n",
      "    'svnversion' is not recognized as an internal or external command,\n",
      "    operable program or batch file.\n",
      "    non-existing path in 'numpy\\\\distutils': 'site.cfg'\n",
      "    lapack_opt_info:\n",
      "    lapack_mkl_info:\n",
      "    No module named 'numpy.distutils._msvccompiler' in numpy.distutils; trying from distutils\n",
      "    customize MSVCCompiler\n",
      "      libraries mkl_rt not found in ['C:\\\\Users\\\\Mohammad\\\\anaconda3\\\\lib', 'C:\\\\', 'C:\\\\Users\\\\Mohammad\\\\anaconda3\\\\libs']\n",
      "      NOT AVAILABLE\n",
      "  \n",
      "    openblas_lapack_info:\n",
      "    No module named 'numpy.distutils._msvccompiler' in numpy.distutils; trying from distutils\n",
      "    customize MSVCCompiler\n",
      "    No module named 'numpy.distutils._msvccompiler' in numpy.distutils; trying from distutils\n",
      "    customize MSVCCompiler\n",
      "      libraries openblas not found in ['C:\\\\Users\\\\Mohammad\\\\anaconda3\\\\lib', 'C:\\\\', 'C:\\\\Users\\\\Mohammad\\\\anaconda3\\\\libs']\n",
      "      NOT AVAILABLE\n",
      "  \n",
      "    openblas_clapack_info:\n",
      "    No module named 'numpy.distutils._msvccompiler' in numpy.distutils; trying from distutils\n",
      "    customize MSVCCompiler\n",
      "    No module named 'numpy.distutils._msvccompiler' in numpy.distutils; trying from distutils\n",
      "    customize MSVCCompiler\n",
      "      libraries openblas,lapack not found in ['C:\\\\Users\\\\Mohammad\\\\anaconda3\\\\lib', 'C:\\\\', 'C:\\\\Users\\\\Mohammad\\\\anaconda3\\\\libs']\n",
      "      NOT AVAILABLE\n",
      "  \n",
      "    flame_info:\n",
      "    No module named 'numpy.distutils._msvccompiler' in numpy.distutils; trying from distutils\n",
      "    customize MSVCCompiler\n",
      "      libraries flame not found in ['C:\\\\Users\\\\Mohammad\\\\anaconda3\\\\lib', 'C:\\\\', 'C:\\\\Users\\\\Mohammad\\\\anaconda3\\\\libs']\n",
      "      NOT AVAILABLE\n",
      "  \n",
      "    atlas_3_10_threads_info:\n",
      "    Setting PTATLAS=ATLAS\n",
      "    No module named 'numpy.distutils._msvccompiler' in numpy.distutils; trying from distutils\n",
      "    customize MSVCCompiler\n",
      "      libraries lapack_atlas not found in C:\\Users\\Mohammad\\anaconda3\\lib\n",
      "    No module named 'numpy.distutils._msvccompiler' in numpy.distutils; trying from distutils\n",
      "    customize MSVCCompiler\n",
      "      libraries tatlas,tatlas not found in C:\\Users\\Mohammad\\anaconda3\\lib\n",
      "    No module named 'numpy.distutils._msvccompiler' in numpy.distutils; trying from distutils\n",
      "    customize MSVCCompiler\n",
      "      libraries lapack_atlas not found in C:\\\n",
      "    No module named 'numpy.distutils._msvccompiler' in numpy.distutils; trying from distutils\n",
      "    customize MSVCCompiler\n",
      "      libraries tatlas,tatlas not found in C:\\\n",
      "    No module named 'numpy.distutils._msvccompiler' in numpy.distutils; trying from distutils\n",
      "    customize MSVCCompiler\n",
      "      libraries lapack_atlas not found in C:\\Users\\Mohammad\\anaconda3\\libs\n",
      "    No module named 'numpy.distutils._msvccompiler' in numpy.distutils; trying from distutils\n",
      "    customize MSVCCompiler\n",
      "      libraries tatlas,tatlas not found in C:\\Users\\Mohammad\\anaconda3\\libs\n",
      "    <class 'numpy.distutils.system_info.atlas_3_10_threads_info'>\n",
      "      NOT AVAILABLE\n",
      "  \n",
      "    atlas_3_10_info:\n",
      "    No module named 'numpy.distutils._msvccompiler' in numpy.distutils; trying from distutils\n",
      "    customize MSVCCompiler\n",
      "      libraries lapack_atlas not found in C:\\Users\\Mohammad\\anaconda3\\lib\n",
      "    No module named 'numpy.distutils._msvccompiler' in numpy.distutils; trying from distutils\n",
      "    customize MSVCCompiler\n",
      "      libraries satlas,satlas not found in C:\\Users\\Mohammad\\anaconda3\\lib\n",
      "    No module named 'numpy.distutils._msvccompiler' in numpy.distutils; trying from distutils\n",
      "    customize MSVCCompiler\n",
      "      libraries lapack_atlas not found in C:\\\n",
      "    No module named 'numpy.distutils._msvccompiler' in numpy.distutils; trying from distutils\n",
      "    customize MSVCCompiler\n",
      "      libraries satlas,satlas not found in C:\\\n",
      "    No module named 'numpy.distutils._msvccompiler' in numpy.distutils; trying from distutils\n",
      "    customize MSVCCompiler\n",
      "      libraries lapack_atlas not found in C:\\Users\\Mohammad\\anaconda3\\libs\n",
      "    No module named 'numpy.distutils._msvccompiler' in numpy.distutils; trying from distutils\n",
      "    customize MSVCCompiler\n",
      "      libraries satlas,satlas not found in C:\\Users\\Mohammad\\anaconda3\\libs\n",
      "    <class 'numpy.distutils.system_info.atlas_3_10_info'>\n",
      "      NOT AVAILABLE\n",
      "  \n",
      "    atlas_threads_info:\n",
      "    Setting PTATLAS=ATLAS\n",
      "    No module named 'numpy.distutils._msvccompiler' in numpy.distutils; trying from distutils\n",
      "    customize MSVCCompiler\n",
      "      libraries lapack_atlas not found in C:\\Users\\Mohammad\\anaconda3\\lib\n",
      "    No module named 'numpy.distutils._msvccompiler' in numpy.distutils; trying from distutils\n",
      "    customize MSVCCompiler\n",
      "      libraries ptf77blas,ptcblas,atlas not found in C:\\Users\\Mohammad\\anaconda3\\lib\n",
      "    No module named 'numpy.distutils._msvccompiler' in numpy.distutils; trying from distutils\n",
      "    customize MSVCCompiler\n",
      "      libraries lapack_atlas not found in C:\\\n",
      "    No module named 'numpy.distutils._msvccompiler' in numpy.distutils; trying from distutils\n",
      "    customize MSVCCompiler\n",
      "      libraries ptf77blas,ptcblas,atlas not found in C:\\\n",
      "    No module named 'numpy.distutils._msvccompiler' in numpy.distutils; trying from distutils\n",
      "    customize MSVCCompiler\n",
      "      libraries lapack_atlas not found in C:\\Users\\Mohammad\\anaconda3\\libs\n",
      "    No module named 'numpy.distutils._msvccompiler' in numpy.distutils; trying from distutils\n",
      "    customize MSVCCompiler\n",
      "      libraries ptf77blas,ptcblas,atlas not found in C:\\Users\\Mohammad\\anaconda3\\libs\n",
      "    <class 'numpy.distutils.system_info.atlas_threads_info'>\n",
      "      NOT AVAILABLE\n",
      "  \n",
      "    atlas_info:\n",
      "    No module named 'numpy.distutils._msvccompiler' in numpy.distutils; trying from distutils\n",
      "    customize MSVCCompiler\n",
      "      libraries lapack_atlas not found in C:\\Users\\Mohammad\\anaconda3\\lib\n",
      "    No module named 'numpy.distutils._msvccompiler' in numpy.distutils; trying from distutils\n",
      "    customize MSVCCompiler\n",
      "      libraries f77blas,cblas,atlas not found in C:\\Users\\Mohammad\\anaconda3\\lib\n",
      "    No module named 'numpy.distutils._msvccompiler' in numpy.distutils; trying from distutils\n",
      "    customize MSVCCompiler\n",
      "      libraries lapack_atlas not found in C:\\\n",
      "    No module named 'numpy.distutils._msvccompiler' in numpy.distutils; trying from distutils\n",
      "    customize MSVCCompiler\n",
      "      libraries f77blas,cblas,atlas not found in C:\\\n",
      "    No module named 'numpy.distutils._msvccompiler' in numpy.distutils; trying from distutils\n",
      "    customize MSVCCompiler\n",
      "      libraries lapack_atlas not found in C:\\Users\\Mohammad\\anaconda3\\libs\n",
      "    No module named 'numpy.distutils._msvccompiler' in numpy.distutils; trying from distutils\n",
      "    customize MSVCCompiler\n",
      "      libraries f77blas,cblas,atlas not found in C:\\Users\\Mohammad\\anaconda3\\libs\n",
      "    <class 'numpy.distutils.system_info.atlas_info'>\n",
      "      NOT AVAILABLE\n",
      "  \n",
      "    lapack_info:\n",
      "    No module named 'numpy.distutils._msvccompiler' in numpy.distutils; trying from distutils\n",
      "    customize MSVCCompiler\n",
      "      libraries lapack not found in ['C:\\\\Users\\\\Mohammad\\\\anaconda3\\\\lib', 'C:\\\\', 'C:\\\\Users\\\\Mohammad\\\\anaconda3\\\\libs']\n",
      "      NOT AVAILABLE\n",
      "  \n",
      "    C:\\Users\\Mohammad\\AppData\\Local\\Temp\\pip-install-pxoxjwf8\\numpy_5c4d335c53894b4ba158cba4602d2203\\numpy\\distutils\\system_info.py:1712: UserWarning:\n",
      "        Lapack (http://www.netlib.org/lapack/) libraries not found.\n",
      "        Directories to search for the libraries can be specified in the\n",
      "        numpy/distutils/site.cfg file (section [lapack]) or by setting\n",
      "        the LAPACK environment variable.\n",
      "      if getattr(self, '_calc_info_{}'.format(lapack))():\n",
      "    lapack_src_info:\n",
      "      NOT AVAILABLE\n",
      "  \n",
      "    C:\\Users\\Mohammad\\AppData\\Local\\Temp\\pip-install-pxoxjwf8\\numpy_5c4d335c53894b4ba158cba4602d2203\\numpy\\distutils\\system_info.py:1712: UserWarning:\n",
      "        Lapack (http://www.netlib.org/lapack/) sources not found.\n",
      "        Directories to search for the sources can be specified in the\n",
      "        numpy/distutils/site.cfg file (section [lapack_src]) or by setting\n",
      "        the LAPACK_SRC environment variable.\n",
      "      if getattr(self, '_calc_info_{}'.format(lapack))():\n",
      "      NOT AVAILABLE\n",
      "  \n",
      "    C:\\Users\\Mohammad\\anaconda3\\lib\\site-packages\\setuptools\\_distutils\\dist.py:275: UserWarning: Unknown distribution option: 'define_macros'\n",
      "      warnings.warn(msg)\n",
      "    running bdist_wheel\n",
      "    running build\n",
      "    running config_cc\n",
      "    unifing config_cc, config, build_clib, build_ext, build commands --compiler options\n",
      "    running config_fc\n",
      "    unifing config_fc, config, build_clib, build_ext, build commands --fcompiler options\n",
      "    running build_src\n",
      "    build_src\n",
      "    building py_modules sources\n",
      "    creating build\n",
      "    creating build\\src.win-amd64-3.9\n",
      "    creating build\\src.win-amd64-3.9\\numpy\n",
      "    creating build\\src.win-amd64-3.9\\numpy\\distutils\n",
      "    building library \"npymath\" sources\n",
      "    No module named 'numpy.distutils._msvccompiler' in numpy.distutils; trying from distutils\n",
      "    error: Microsoft Visual C++ 14.0 or greater is required. Get it with \"Microsoft C++ Build Tools\": https://visualstudio.microsoft.com/visual-cpp-build-tools/\n",
      "    ----------------------------------------"
     ]
    }
   ],
   "source": [
    "pip install scikit-learn==0.23.1"
   ]
  },
  {
   "cell_type": "code",
   "execution_count": 2,
   "id": "be9099db",
   "metadata": {
    "collapsed": true
   },
   "outputs": [
    {
     "name": "stderr",
     "output_type": "stream",
     "text": [
      "\n",
      "    ERROR: Failed building wheel for numpy\n",
      "    Running setup.py clean for numpy\n",
      "    ERROR: Command errored out with exit status 1:\n",
      "     command: 'C:\\Users\\Mohammad\\anaconda3\\python.exe' -u -c 'import io, os, sys, setuptools, tokenize; sys.argv[0] = '\"'\"'C:\\\\Users\\\\Mohammad\\\\AppData\\\\Local\\\\Temp\\\\pip-install-pxoxjwf8\\\\numpy_5c4d335c53894b4ba158cba4602d2203\\\\setup.py'\"'\"'; __file__='\"'\"'C:\\\\Users\\\\Mohammad\\\\AppData\\\\Local\\\\Temp\\\\pip-install-pxoxjwf8\\\\numpy_5c4d335c53894b4ba158cba4602d2203\\\\setup.py'\"'\"';f = getattr(tokenize, '\"'\"'open'\"'\"', open)(__file__) if os.path.exists(__file__) else io.StringIO('\"'\"'from setuptools import setup; setup()'\"'\"');code = f.read().replace('\"'\"'\\r\\n'\"'\"', '\"'\"'\\n'\"'\"');f.close();exec(compile(code, __file__, '\"'\"'exec'\"'\"'))' clean --all\n",
      "         cwd: C:\\Users\\Mohammad\\AppData\\Local\\Temp\\pip-install-pxoxjwf8\\numpy_5c4d335c53894b4ba158cba4602d2203\n",
      "    Complete output (10 lines):\n",
      "    Running from numpy source directory.\n",
      "  \n",
      "    `setup.py clean` is not supported, use one of the following instead:\n",
      "  \n",
      "      - `git clean -xdf` (cleans all files)\n",
      "      - `git clean -Xdf` (cleans all versioned files, doesn't touch\n",
      "                          files that aren't checked into the git repo)\n",
      "  \n",
      "    Add `--force` to your command to use it anyway if you must (unsupported).\n",
      "  \n",
      "    ----------------------------------------\n",
      "    ERROR: Failed cleaning build dir for numpy\n",
      "  Failed to build numpy\n",
      "  Installing collected packages: numpy, wheel, setuptools, scipy, Cython\n",
      "      Running setup.py install for numpy: started\n",
      "      Running setup.py install for numpy: finished with status 'error'\n",
      "      ERROR: Command errored out with exit status 1:\n",
      "       command: 'C:\\Users\\Mohammad\\anaconda3\\python.exe' -u -c 'import io, os, sys, setuptools, tokenize; sys.argv[0] = '\"'\"'C:\\\\Users\\\\Mohammad\\\\AppData\\\\Local\\\\Temp\\\\pip-install-pxoxjwf8\\\\numpy_5c4d335c53894b4ba158cba4602d2203\\\\setup.py'\"'\"'; __file__='\"'\"'C:\\\\Users\\\\Mohammad\\\\AppData\\\\Local\\\\Temp\\\\pip-install-pxoxjwf8\\\\numpy_5c4d335c53894b4ba158cba4602d2203\\\\setup.py'\"'\"';f = getattr(tokenize, '\"'\"'open'\"'\"', open)(__file__) if os.path.exists(__file__) else io.StringIO('\"'\"'from setuptools import setup; setup()'\"'\"');code = f.read().replace('\"'\"'\\r\\n'\"'\"', '\"'\"'\\n'\"'\"');f.close();exec(compile(code, __file__, '\"'\"'exec'\"'\"'))' install --record 'C:\\Users\\Mohammad\\AppData\\Local\\Temp\\pip-record-di9l52n6\\install-record.txt' --single-version-externally-managed --prefix 'C:\\Users\\Mohammad\\AppData\\Local\\Temp\\pip-build-env-jf3cp30_\\overlay' --compile --install-headers 'C:\\Users\\Mohammad\\AppData\\Local\\Temp\\pip-build-env-jf3cp30_\\overlay\\Include\\numpy'\n",
      "           cwd: C:\\Users\\Mohammad\\AppData\\Local\\Temp\\pip-install-pxoxjwf8\\numpy_5c4d335c53894b4ba158cba4602d2203\\\n",
      "      Complete output (275 lines):\n",
      "      Running from numpy source directory.\n",
      "  \n",
      "      Note: if you need reliable uninstall behavior, then install\n",
      "      with pip instead of using `setup.py install`:\n",
      "  \n",
      "        - `pip install .`       (from a git repo or downloaded source\n",
      "                                 release)\n",
      "        - `pip install numpy`   (last NumPy release on PyPi)\n",
      "  \n",
      "  \n",
      "      blas_opt_info:\n",
      "      blas_mkl_info:\n",
      "      No module named 'numpy.distutils._msvccompiler' in numpy.distutils; trying from distutils\n",
      "      customize MSVCCompiler\n",
      "        libraries mkl_rt not found in ['C:\\\\Users\\\\Mohammad\\\\anaconda3\\\\lib', 'C:\\\\', 'C:\\\\Users\\\\Mohammad\\\\anaconda3\\\\libs']\n",
      "        NOT AVAILABLE\n",
      "  \n",
      "      blis_info:\n",
      "      No module named 'numpy.distutils._msvccompiler' in numpy.distutils; trying from distutils\n",
      "      customize MSVCCompiler\n",
      "        libraries blis not found in ['C:\\\\Users\\\\Mohammad\\\\anaconda3\\\\lib', 'C:\\\\', 'C:\\\\Users\\\\Mohammad\\\\anaconda3\\\\libs']\n",
      "        NOT AVAILABLE\n",
      "  \n",
      "      openblas_info:\n",
      "      No module named 'numpy.distutils._msvccompiler' in numpy.distutils; trying from distutils\n",
      "      customize MSVCCompiler\n",
      "      No module named 'numpy.distutils._msvccompiler' in numpy.distutils; trying from distutils\n",
      "      customize MSVCCompiler\n",
      "        libraries openblas not found in ['C:\\\\Users\\\\Mohammad\\\\anaconda3\\\\lib', 'C:\\\\', 'C:\\\\Users\\\\Mohammad\\\\anaconda3\\\\libs']\n",
      "      get_default_fcompiler: matching types: '['gnu', 'intelv', 'absoft', 'compaqv', 'intelev', 'gnu95', 'g95', 'intelvem', 'intelem', 'flang']'\n",
      "      customize GnuFCompiler\n",
      "      Could not locate executable g77\n",
      "      Could not locate executable f77\n",
      "      customize IntelVisualFCompiler\n",
      "      Could not locate executable ifort\n",
      "      Could not locate executable ifl\n",
      "      customize AbsoftFCompiler\n",
      "      Could not locate executable f90\n",
      "      customize CompaqVisualFCompiler\n",
      "      Could not locate executable DF\n",
      "      customize IntelItaniumVisualFCompiler\n",
      "      Could not locate executable efl\n",
      "      customize Gnu95FCompiler\n",
      "      Could not locate executable gfortran\n",
      "      Could not locate executable f95\n",
      "      customize G95FCompiler\n",
      "      Could not locate executable g95\n",
      "      customize IntelEM64VisualFCompiler\n",
      "      customize IntelEM64TFCompiler\n",
      "      Could not locate executable efort\n",
      "      Could not locate executable efc\n",
      "      customize PGroupFlangCompiler\n",
      "      Could not locate executable flang\n",
      "      don't know how to compile Fortran code on platform 'nt'\n",
      "        NOT AVAILABLE\n",
      "  \n",
      "      atlas_3_10_blas_threads_info:\n",
      "      Setting PTATLAS=ATLAS\n",
      "      No module named 'numpy.distutils._msvccompiler' in numpy.distutils; trying from distutils\n",
      "      customize MSVCCompiler\n",
      "        libraries tatlas not found in ['C:\\\\Users\\\\Mohammad\\\\anaconda3\\\\lib', 'C:\\\\', 'C:\\\\Users\\\\Mohammad\\\\anaconda3\\\\libs']\n",
      "        NOT AVAILABLE\n",
      "  \n",
      "      atlas_3_10_blas_info:\n",
      "      No module named 'numpy.distutils._msvccompiler' in numpy.distutils; trying from distutils\n",
      "      customize MSVCCompiler\n",
      "        libraries satlas not found in ['C:\\\\Users\\\\Mohammad\\\\anaconda3\\\\lib', 'C:\\\\', 'C:\\\\Users\\\\Mohammad\\\\anaconda3\\\\libs']\n",
      "        NOT AVAILABLE\n",
      "  \n",
      "      atlas_blas_threads_info:\n",
      "      Setting PTATLAS=ATLAS\n",
      "      No module named 'numpy.distutils._msvccompiler' in numpy.distutils; trying from distutils\n",
      "      customize MSVCCompiler\n",
      "        libraries ptf77blas,ptcblas,atlas not found in ['C:\\\\Users\\\\Mohammad\\\\anaconda3\\\\lib', 'C:\\\\', 'C:\\\\Users\\\\Mohammad\\\\anaconda3\\\\libs']\n",
      "        NOT AVAILABLE\n",
      "  \n",
      "      atlas_blas_info:\n",
      "      No module named 'numpy.distutils._msvccompiler' in numpy.distutils; trying from distutils\n",
      "      customize MSVCCompiler\n",
      "        libraries f77blas,cblas,atlas not found in ['C:\\\\Users\\\\Mohammad\\\\anaconda3\\\\lib', 'C:\\\\', 'C:\\\\Users\\\\Mohammad\\\\anaconda3\\\\libs']\n",
      "        NOT AVAILABLE\n",
      "  \n",
      "      accelerate_info:\n",
      "        NOT AVAILABLE\n",
      "  \n",
      "      C:\\Users\\Mohammad\\AppData\\Local\\Temp\\pip-install-pxoxjwf8\\numpy_5c4d335c53894b4ba158cba4602d2203\\numpy\\distutils\\system_info.py:690: UserWarning:\n",
      "          Optimized (vendor) Blas libraries are not found.\n",
      "          Falls back to netlib Blas library which has worse performance.\n",
      "          A better performance should be easily gained by switching\n",
      "          Blas library.\n",
      "        self.calc_info()\n",
      "      blas_info:\n",
      "      No module named 'numpy.distutils._msvccompiler' in numpy.distutils; trying from distutils\n",
      "      customize MSVCCompiler\n",
      "        libraries blas not found in ['C:\\\\Users\\\\Mohammad\\\\anaconda3\\\\lib', 'C:\\\\', 'C:\\\\Users\\\\Mohammad\\\\anaconda3\\\\libs']\n",
      "        NOT AVAILABLE\n",
      "  \n",
      "      C:\\Users\\Mohammad\\AppData\\Local\\Temp\\pip-install-pxoxjwf8\\numpy_5c4d335c53894b4ba158cba4602d2203\\numpy\\distutils\\system_info.py:690: UserWarning:\n",
      "          Blas (http://www.netlib.org/blas/) libraries not found.\n",
      "          Directories to search for the libraries can be specified in the\n",
      "          numpy/distutils/site.cfg file (section [blas]) or by setting\n",
      "          the BLAS environment variable.\n",
      "        self.calc_info()\n",
      "      blas_src_info:\n",
      "        NOT AVAILABLE\n",
      "  \n",
      "      C:\\Users\\Mohammad\\AppData\\Local\\Temp\\pip-install-pxoxjwf8\\numpy_5c4d335c53894b4ba158cba4602d2203\\numpy\\distutils\\system_info.py:690: UserWarning:\n",
      "          Blas (http://www.netlib.org/blas/) sources not found.\n",
      "          Directories to search for the sources can be specified in the\n",
      "          numpy/distutils/site.cfg file (section [blas_src]) or by setting\n",
      "          the BLAS_SRC environment variable.\n",
      "        self.calc_info()\n",
      "        NOT AVAILABLE\n",
      "  \n",
      "      'svnversion' is not recognized as an internal or external command,\n",
      "      operable program or batch file.\n",
      "      non-existing path in 'numpy\\\\distutils': 'site.cfg'\n",
      "      lapack_opt_info:\n",
      "      lapack_mkl_info:\n",
      "      No module named 'numpy.distutils._msvccompiler' in numpy.distutils; trying from distutils\n",
      "      customize MSVCCompiler\n",
      "        libraries mkl_rt not found in ['C:\\\\Users\\\\Mohammad\\\\anaconda3\\\\lib', 'C:\\\\', 'C:\\\\Users\\\\Mohammad\\\\anaconda3\\\\libs']\n",
      "        NOT AVAILABLE\n",
      "  \n",
      "      openblas_lapack_info:\n",
      "      No module named 'numpy.distutils._msvccompiler' in numpy.distutils; trying from distutils\n",
      "      customize MSVCCompiler\n",
      "      No module named 'numpy.distutils._msvccompiler' in numpy.distutils; trying from distutils\n",
      "      customize MSVCCompiler\n",
      "        libraries openblas not found in ['C:\\\\Users\\\\Mohammad\\\\anaconda3\\\\lib', 'C:\\\\', 'C:\\\\Users\\\\Mohammad\\\\anaconda3\\\\libs']\n",
      "        NOT AVAILABLE\n",
      "  \n",
      "      openblas_clapack_info:\n",
      "      No module named 'numpy.distutils._msvccompiler' in numpy.distutils; trying from distutils\n",
      "      customize MSVCCompiler\n",
      "      No module named 'numpy.distutils._msvccompiler' in numpy.distutils; trying from distutils\n",
      "      customize MSVCCompiler\n",
      "        libraries openblas,lapack not found in ['C:\\\\Users\\\\Mohammad\\\\anaconda3\\\\lib', 'C:\\\\', 'C:\\\\Users\\\\Mohammad\\\\anaconda3\\\\libs']\n",
      "        NOT AVAILABLE\n",
      "  \n",
      "      flame_info:\n",
      "      No module named 'numpy.distutils._msvccompiler' in numpy.distutils; trying from distutils\n",
      "      customize MSVCCompiler\n",
      "        libraries flame not found in ['C:\\\\Users\\\\Mohammad\\\\anaconda3\\\\lib', 'C:\\\\', 'C:\\\\Users\\\\Mohammad\\\\anaconda3\\\\libs']\n",
      "        NOT AVAILABLE\n",
      "  \n",
      "      atlas_3_10_threads_info:\n",
      "      Setting PTATLAS=ATLAS\n",
      "      No module named 'numpy.distutils._msvccompiler' in numpy.distutils; trying from distutils\n",
      "      customize MSVCCompiler\n",
      "        libraries lapack_atlas not found in C:\\Users\\Mohammad\\anaconda3\\lib\n",
      "      No module named 'numpy.distutils._msvccompiler' in numpy.distutils; trying from distutils\n",
      "      customize MSVCCompiler\n",
      "        libraries tatlas,tatlas not found in C:\\Users\\Mohammad\\anaconda3\\lib\n",
      "      No module named 'numpy.distutils._msvccompiler' in numpy.distutils; trying from distutils\n",
      "      customize MSVCCompiler\n",
      "        libraries lapack_atlas not found in C:\\\n",
      "      No module named 'numpy.distutils._msvccompiler' in numpy.distutils; trying from distutils\n",
      "      customize MSVCCompiler\n",
      "        libraries tatlas,tatlas not found in C:\\\n",
      "      No module named 'numpy.distutils._msvccompiler' in numpy.distutils; trying from distutils\n",
      "      customize MSVCCompiler\n",
      "        libraries lapack_atlas not found in C:\\Users\\Mohammad\\anaconda3\\libs\n",
      "      No module named 'numpy.distutils._msvccompiler' in numpy.distutils; trying from distutils\n",
      "      customize MSVCCompiler\n",
      "        libraries tatlas,tatlas not found in C:\\Users\\Mohammad\\anaconda3\\libs\n",
      "      <class 'numpy.distutils.system_info.atlas_3_10_threads_info'>\n",
      "        NOT AVAILABLE\n",
      "  \n",
      "      atlas_3_10_info:\n",
      "      No module named 'numpy.distutils._msvccompiler' in numpy.distutils; trying from distutils\n",
      "      customize MSVCCompiler\n",
      "        libraries lapack_atlas not found in C:\\Users\\Mohammad\\anaconda3\\lib\n",
      "      No module named 'numpy.distutils._msvccompiler' in numpy.distutils; trying from distutils\n",
      "      customize MSVCCompiler\n",
      "        libraries satlas,satlas not found in C:\\Users\\Mohammad\\anaconda3\\lib\n",
      "      No module named 'numpy.distutils._msvccompiler' in numpy.distutils; trying from distutils\n",
      "      customize MSVCCompiler\n",
      "        libraries lapack_atlas not found in C:\\\n",
      "      No module named 'numpy.distutils._msvccompiler' in numpy.distutils; trying from distutils\n",
      "      customize MSVCCompiler\n",
      "        libraries satlas,satlas not found in C:\\\n",
      "      No module named 'numpy.distutils._msvccompiler' in numpy.distutils; trying from distutils\n",
      "      customize MSVCCompiler\n",
      "        libraries lapack_atlas not found in C:\\Users\\Mohammad\\anaconda3\\libs\n",
      "      No module named 'numpy.distutils._msvccompiler' in numpy.distutils; trying from distutils\n",
      "      customize MSVCCompiler\n",
      "        libraries satlas,satlas not found in C:\\Users\\Mohammad\\anaconda3\\libs\n",
      "      <class 'numpy.distutils.system_info.atlas_3_10_info'>\n",
      "        NOT AVAILABLE\n",
      "  \n",
      "      atlas_threads_info:\n",
      "      Setting PTATLAS=ATLAS\n",
      "      No module named 'numpy.distutils._msvccompiler' in numpy.distutils; trying from distutils\n",
      "      customize MSVCCompiler\n",
      "        libraries lapack_atlas not found in C:\\Users\\Mohammad\\anaconda3\\lib\n",
      "      No module named 'numpy.distutils._msvccompiler' in numpy.distutils; trying from distutils\n",
      "      customize MSVCCompiler\n",
      "        libraries ptf77blas,ptcblas,atlas not found in C:\\Users\\Mohammad\\anaconda3\\lib\n",
      "      No module named 'numpy.distutils._msvccompiler' in numpy.distutils; trying from distutils\n",
      "      customize MSVCCompiler\n",
      "        libraries lapack_atlas not found in C:\\\n",
      "      No module named 'numpy.distutils._msvccompiler' in numpy.distutils; trying from distutils\n",
      "      customize MSVCCompiler\n",
      "        libraries ptf77blas,ptcblas,atlas not found in C:\\\n",
      "      No module named 'numpy.distutils._msvccompiler' in numpy.distutils; trying from distutils\n",
      "      customize MSVCCompiler\n",
      "        libraries lapack_atlas not found in C:\\Users\\Mohammad\\anaconda3\\libs\n",
      "      No module named 'numpy.distutils._msvccompiler' in numpy.distutils; trying from distutils\n",
      "      customize MSVCCompiler\n",
      "        libraries ptf77blas,ptcblas,atlas not found in C:\\Users\\Mohammad\\anaconda3\\libs\n",
      "      <class 'numpy.distutils.system_info.atlas_threads_info'>\n",
      "        NOT AVAILABLE\n",
      "  \n",
      "      atlas_info:\n",
      "      No module named 'numpy.distutils._msvccompiler' in numpy.distutils; trying from distutils\n",
      "      customize MSVCCompiler\n",
      "        libraries lapack_atlas not found in C:\\Users\\Mohammad\\anaconda3\\lib\n",
      "      No module named 'numpy.distutils._msvccompiler' in numpy.distutils; trying from distutils\n",
      "      customize MSVCCompiler\n",
      "        libraries f77blas,cblas,atlas not found in C:\\Users\\Mohammad\\anaconda3\\lib\n",
      "      No module named 'numpy.distutils._msvccompiler' in numpy.distutils; trying from distutils\n",
      "      customize MSVCCompiler\n",
      "        libraries lapack_atlas not found in C:\\\n",
      "      No module named 'numpy.distutils._msvccompiler' in numpy.distutils; trying from distutils\n",
      "      customize MSVCCompiler\n",
      "        libraries f77blas,cblas,atlas not found in C:\\\n",
      "      No module named 'numpy.distutils._msvccompiler' in numpy.distutils; trying from distutils\n",
      "      customize MSVCCompiler\n",
      "        libraries lapack_atlas not found in C:\\Users\\Mohammad\\anaconda3\\libs\n",
      "      No module named 'numpy.distutils._msvccompiler' in numpy.distutils; trying from distutils\n",
      "      customize MSVCCompiler\n",
      "        libraries f77blas,cblas,atlas not found in C:\\Users\\Mohammad\\anaconda3\\libs\n",
      "      <class 'numpy.distutils.system_info.atlas_info'>\n",
      "        NOT AVAILABLE\n",
      "  \n",
      "      lapack_info:\n",
      "      No module named 'numpy.distutils._msvccompiler' in numpy.distutils; trying from distutils\n",
      "      customize MSVCCompiler\n",
      "        libraries lapack not found in ['C:\\\\Users\\\\Mohammad\\\\anaconda3\\\\lib', 'C:\\\\', 'C:\\\\Users\\\\Mohammad\\\\anaconda3\\\\libs']\n",
      "        NOT AVAILABLE\n",
      "  \n",
      "      C:\\Users\\Mohammad\\AppData\\Local\\Temp\\pip-install-pxoxjwf8\\numpy_5c4d335c53894b4ba158cba4602d2203\\numpy\\distutils\\system_info.py:1712: UserWarning:\n",
      "          Lapack (http://www.netlib.org/lapack/) libraries not found.\n",
      "          Directories to search for the libraries can be specified in the\n",
      "          numpy/distutils/site.cfg file (section [lapack]) or by setting\n",
      "          the LAPACK environment variable.\n",
      "        if getattr(self, '_calc_info_{}'.format(lapack))():\n",
      "      lapack_src_info:\n",
      "        NOT AVAILABLE\n",
      "  \n",
      "      C:\\Users\\Mohammad\\AppData\\Local\\Temp\\pip-install-pxoxjwf8\\numpy_5c4d335c53894b4ba158cba4602d2203\\numpy\\distutils\\system_info.py:1712: UserWarning:\n",
      "          Lapack (http://www.netlib.org/lapack/) sources not found.\n",
      "          Directories to search for the sources can be specified in the\n",
      "          numpy/distutils/site.cfg file (section [lapack_src]) or by setting\n",
      "          the LAPACK_SRC environment variable.\n",
      "        if getattr(self, '_calc_info_{}'.format(lapack))():\n",
      "        NOT AVAILABLE\n",
      "  \n",
      "      C:\\Users\\Mohammad\\anaconda3\\lib\\site-packages\\setuptools\\_distutils\\dist.py:275: UserWarning: Unknown distribution option: 'define_macros'\n",
      "        warnings.warn(msg)\n",
      "      running install\n",
      "      C:\\Users\\Mohammad\\anaconda3\\lib\\site-packages\\setuptools\\command\\install.py:34: SetuptoolsDeprecationWarning: setup.py install is deprecated. Use build and pip and other standards-based tools.\n",
      "        warnings.warn(\n",
      "      running build\n",
      "      running config_cc\n",
      "      unifing config_cc, config, build_clib, build_ext, build commands --compiler options\n",
      "      running config_fc\n",
      "      unifing config_fc, config, build_clib, build_ext, build commands --fcompiler options\n",
      "      running build_src\n",
      "      build_src\n",
      "      building py_modules sources\n",
      "      building library \"npymath\" sources\n",
      "      No module named 'numpy.distutils._msvccompiler' in numpy.distutils; trying from distutils\n",
      "      error: Microsoft Visual C++ 14.0 or greater is required. Get it with \"Microsoft C++ Build Tools\": https://visualstudio.microsoft.com/visual-cpp-build-tools/\n",
      "      ----------------------------------------\n",
      "  ERROR: Command errored out with exit status 1: 'C:\\Users\\Mohammad\\anaconda3\\python.exe' -u -c 'import io, os, sys, setuptools, tokenize; sys.argv[0] = '\"'\"'C:\\\\Users\\\\Mohammad\\\\AppData\\\\Local\\\\Temp\\\\pip-install-pxoxjwf8\\\\numpy_5c4d335c53894b4ba158cba4602d2203\\\\setup.py'\"'\"'; __file__='\"'\"'C:\\\\Users\\\\Mohammad\\\\AppData\\\\Local\\\\Temp\\\\pip-install-pxoxjwf8\\\\numpy_5c4d335c53894b4ba158cba4602d2203\\\\setup.py'\"'\"';f = getattr(tokenize, '\"'\"'open'\"'\"', open)(__file__) if os.path.exists(__file__) else io.StringIO('\"'\"'from setuptools import setup; setup()'\"'\"');code = f.read().replace('\"'\"'\\r\\n'\"'\"', '\"'\"'\\n'\"'\"');f.close();exec(compile(code, __file__, '\"'\"'exec'\"'\"'))' install --record 'C:\\Users\\Mohammad\\AppData\\Local\\Temp\\pip-record-di9l52n6\\install-record.txt' --single-version-externally-managed --prefix 'C:\\Users\\Mohammad\\AppData\\Local\\Temp\\pip-build-env-jf3cp30_\\overlay' --compile --install-headers 'C:\\Users\\Mohammad\\AppData\\Local\\Temp\\pip-build-env-jf3cp30_\\overlay\\Include\\numpy' Check the logs for full command output.\n",
      "  ----------------------------------------\n",
      "WARNING: Discarding https://files.pythonhosted.org/packages/23/b0/ff0f4ffa3da1ddb242a295d5d19dd1775f567ad73a6ea7474eaa55e04836/scikit-learn-0.23.1.tar.gz#sha256=e3fec1c8831f8f93ad85581ca29ca1bb88e2da377fb097cf8322aa89c21bc9b8 (from https://pypi.org/simple/scikit-learn/) (requires-python:>=3.6). Command errored out with exit status 1: 'C:\\Users\\Mohammad\\anaconda3\\python.exe' 'C:\\Users\\Mohammad\\AppData\\Local\\Temp\\pip-standalone-pip-fvvf5gj6\\__env_pip__.zip\\pip' install --ignore-installed --no-user --prefix 'C:\\Users\\Mohammad\\AppData\\Local\\Temp\\pip-build-env-jf3cp30_\\overlay' --no-warn-script-location --no-binary :none: --only-binary :none: -i https://pypi.org/simple -- setuptools wheel 'Cython>=0.28.5' 'numpy==1.13.3; python_version=='\"'\"'3.6'\"'\"' and platform_system!='\"'\"'AIX'\"'\"' and platform_python_implementation == '\"'\"'CPython'\"'\"'' 'numpy==1.14.0; python_version=='\"'\"'3.6'\"'\"' and platform_system!='\"'\"'AIX'\"'\"' and platform_python_implementation != '\"'\"'CPython'\"'\"'' 'numpy==1.14.5; python_version=='\"'\"'3.7'\"'\"' and platform_system!='\"'\"'AIX'\"'\"'' 'numpy==1.17.3; python_version>='\"'\"'3.8'\"'\"' and platform_system!='\"'\"'AIX'\"'\"'' 'numpy==1.16.0; python_version=='\"'\"'3.6'\"'\"' and platform_system=='\"'\"'AIX'\"'\"'' 'numpy==1.16.0; python_version=='\"'\"'3.7'\"'\"' and platform_system=='\"'\"'AIX'\"'\"'' 'numpy==1.17.3; python_version>='\"'\"'3.8'\"'\"' and platform_system=='\"'\"'AIX'\"'\"'' 'scipy>=0.19.1' Check the logs for full command output.\n",
      "ERROR: Could not find a version that satisfies the requirement scikit-learn==0.23.1 (from versions: 0.9, 0.10, 0.11, 0.12, 0.12.1, 0.13, 0.13.1, 0.14, 0.14.1, 0.15.0b1, 0.15.0b2, 0.15.0, 0.15.1, 0.15.2, 0.16b1, 0.16.0, 0.16.1, 0.17b1, 0.17, 0.17.1, 0.18, 0.18.1, 0.18.2, 0.19b2, 0.19.0, 0.19.1, 0.19.2, 0.20rc1, 0.20.0, 0.20.1, 0.20.2, 0.20.3, 0.20.4, 0.21rc2, 0.21.1, 0.21.2, 0.21.3, 0.22rc2.post1, 0.22rc3, 0.22, 0.22.1, 0.22.2.post1, 0.23.0rc1, 0.23.0, 0.23.1, 0.23.2, 0.24.dev0, 0.24.0rc1, 0.24.0, 0.24.1, 0.24.2, 1.0rc1, 1.0rc2, 1.0, 1.0.1, 1.0.2, 1.1.0rc1, 1.1.0, 1.1.1, 1.1.2)\n",
      "ERROR: No matching distribution found for scikit-learn==0.23.1\n"
     ]
    }
   ],
   "source": [
    "import numpy as np\n",
    "import matplotlib.pyplot as plt\n",
    "import pandas as pd\n",
    "import numpy as np\n",
    "from sklearn import preprocessing\n",
    "%matplotlib inline"
   ]
  },
  {
   "cell_type": "code",
   "execution_count": 3,
   "id": "dd1a4939",
   "metadata": {
    "collapsed": true
   },
   "outputs": [
    {
     "name": "stdout",
     "output_type": "stream",
     "text": [
      "Requirement already satisfied: scikit-learn in c:\\users\\mohammad\\anaconda3\\lib\\site-packages (1.0.2)\n",
      "Requirement already satisfied: joblib>=0.11 in c:\\users\\mohammad\\anaconda3\\lib\\site-packages (from scikit-learn) (1.1.0)\n",
      "Requirement already satisfied: scipy>=1.1.0 in c:\\users\\mohammad\\appdata\\roaming\\python\\python39\\site-packages (from scikit-learn) (1.6.0)\n",
      "Requirement already satisfied: numpy>=1.14.6 in c:\\users\\mohammad\\appdata\\roaming\\python\\python39\\site-packages (from scikit-learn) (1.19.4)\n",
      "Requirement already satisfied: threadpoolctl>=2.0.0 in c:\\users\\mohammad\\anaconda3\\lib\\site-packages (from scikit-learn) (2.2.0)\n",
      "Note: you may need to restart the kernel to use updated packages.\n"
     ]
    }
   ],
   "source": [
    "pip install scikit-learn"
   ]
  },
  {
   "cell_type": "code",
   "execution_count": 15,
   "id": "0858de56",
   "metadata": {},
   "outputs": [
    {
     "data": {
      "text/html": [
       "<div>\n",
       "<style scoped>\n",
       "    .dataframe tbody tr th:only-of-type {\n",
       "        vertical-align: middle;\n",
       "    }\n",
       "\n",
       "    .dataframe tbody tr th {\n",
       "        vertical-align: top;\n",
       "    }\n",
       "\n",
       "    .dataframe thead th {\n",
       "        text-align: right;\n",
       "    }\n",
       "</style>\n",
       "<table border=\"1\" class=\"dataframe\">\n",
       "  <thead>\n",
       "    <tr style=\"text-align: right;\">\n",
       "      <th></th>\n",
       "      <th>age</th>\n",
       "      <th>sex</th>\n",
       "      <th>cp</th>\n",
       "      <th>trtbps</th>\n",
       "      <th>chol</th>\n",
       "      <th>fbs</th>\n",
       "      <th>restecg</th>\n",
       "      <th>thalachh</th>\n",
       "      <th>exng</th>\n",
       "      <th>oldpeak</th>\n",
       "      <th>slp</th>\n",
       "      <th>caa</th>\n",
       "      <th>thall</th>\n",
       "      <th>output</th>\n",
       "    </tr>\n",
       "  </thead>\n",
       "  <tbody>\n",
       "    <tr>\n",
       "      <th>0</th>\n",
       "      <td>63</td>\n",
       "      <td>1</td>\n",
       "      <td>3</td>\n",
       "      <td>145</td>\n",
       "      <td>233</td>\n",
       "      <td>1</td>\n",
       "      <td>0</td>\n",
       "      <td>150</td>\n",
       "      <td>0</td>\n",
       "      <td>2.3</td>\n",
       "      <td>0</td>\n",
       "      <td>0</td>\n",
       "      <td>1</td>\n",
       "      <td>1</td>\n",
       "    </tr>\n",
       "    <tr>\n",
       "      <th>1</th>\n",
       "      <td>37</td>\n",
       "      <td>1</td>\n",
       "      <td>2</td>\n",
       "      <td>130</td>\n",
       "      <td>250</td>\n",
       "      <td>0</td>\n",
       "      <td>1</td>\n",
       "      <td>187</td>\n",
       "      <td>0</td>\n",
       "      <td>3.5</td>\n",
       "      <td>0</td>\n",
       "      <td>0</td>\n",
       "      <td>2</td>\n",
       "      <td>1</td>\n",
       "    </tr>\n",
       "    <tr>\n",
       "      <th>2</th>\n",
       "      <td>41</td>\n",
       "      <td>0</td>\n",
       "      <td>1</td>\n",
       "      <td>130</td>\n",
       "      <td>204</td>\n",
       "      <td>0</td>\n",
       "      <td>0</td>\n",
       "      <td>172</td>\n",
       "      <td>0</td>\n",
       "      <td>1.4</td>\n",
       "      <td>2</td>\n",
       "      <td>0</td>\n",
       "      <td>2</td>\n",
       "      <td>1</td>\n",
       "    </tr>\n",
       "    <tr>\n",
       "      <th>3</th>\n",
       "      <td>56</td>\n",
       "      <td>1</td>\n",
       "      <td>1</td>\n",
       "      <td>120</td>\n",
       "      <td>236</td>\n",
       "      <td>0</td>\n",
       "      <td>1</td>\n",
       "      <td>178</td>\n",
       "      <td>0</td>\n",
       "      <td>0.8</td>\n",
       "      <td>2</td>\n",
       "      <td>0</td>\n",
       "      <td>2</td>\n",
       "      <td>1</td>\n",
       "    </tr>\n",
       "    <tr>\n",
       "      <th>4</th>\n",
       "      <td>57</td>\n",
       "      <td>0</td>\n",
       "      <td>0</td>\n",
       "      <td>120</td>\n",
       "      <td>354</td>\n",
       "      <td>0</td>\n",
       "      <td>1</td>\n",
       "      <td>163</td>\n",
       "      <td>1</td>\n",
       "      <td>0.6</td>\n",
       "      <td>2</td>\n",
       "      <td>0</td>\n",
       "      <td>2</td>\n",
       "      <td>1</td>\n",
       "    </tr>\n",
       "  </tbody>\n",
       "</table>\n",
       "</div>"
      ],
      "text/plain": [
       "   age  sex  cp  trtbps  chol  fbs  restecg  thalachh  exng  oldpeak  slp  \\\n",
       "0   63    1   3     145   233    1        0       150     0      2.3    0   \n",
       "1   37    1   2     130   250    0        1       187     0      3.5    0   \n",
       "2   41    0   1     130   204    0        0       172     0      1.4    2   \n",
       "3   56    1   1     120   236    0        1       178     0      0.8    2   \n",
       "4   57    0   0     120   354    0        1       163     1      0.6    2   \n",
       "\n",
       "   caa  thall  output  \n",
       "0    0      1       1  \n",
       "1    0      2       1  \n",
       "2    0      2       1  \n",
       "3    0      2       1  \n",
       "4    0      2       1  "
      ]
     },
     "execution_count": 15,
     "metadata": {},
     "output_type": "execute_result"
    }
   ],
   "source": [
    "df=pd.read_csv('heart.csv')\n",
    "df.head()"
   ]
  },
  {
   "cell_type": "code",
   "execution_count": 17,
   "id": "25233f61",
   "metadata": {},
   "outputs": [
    {
     "data": {
      "text/plain": [
       "(303, 14)"
      ]
     },
     "execution_count": 17,
     "metadata": {},
     "output_type": "execute_result"
    }
   ],
   "source": [
    "df.shape"
   ]
  },
  {
   "cell_type": "markdown",
   "id": "f17eb465",
   "metadata": {},
   "source": [
    "### ابتدا نگاهی به دیتا می اندازیم"
   ]
  },
  {
   "cell_type": "code",
   "execution_count": 18,
   "id": "62bc6a60",
   "metadata": {},
   "outputs": [
    {
     "data": {
      "text/plain": [
       "1    165\n",
       "0    138\n",
       "Name: output, dtype: int64"
      ]
     },
     "execution_count": 18,
     "metadata": {},
     "output_type": "execute_result"
    }
   ],
   "source": [
    "#مثلا اول ببینیم توی داده ها از هر کتگوری چند تا داریم\n",
    "\n",
    "df['output'].value_counts()"
   ]
  },
  {
   "cell_type": "code",
   "execution_count": 20,
   "id": "9768b722",
   "metadata": {},
   "outputs": [
    {
     "data": {
      "text/plain": [
       "array([[<AxesSubplot:title={'center':'chol'}>]], dtype=object)"
      ]
     },
     "execution_count": 20,
     "metadata": {},
     "output_type": "execute_result"
    },
    {
     "data": {
      "image/png": "[encoded data removed]",
      "text/plain": [
       "<Figure size 432x288 with 1 Axes>"
      ]
     },
     "metadata": {
      "needs_background": "light"
     },
     "output_type": "display_data"
    }
   ],
   "source": [
    "#یا بیایم هیستوگرام بکشیم بر اساس قسمتهای مختلف داده\n",
    "\n",
    "df.hist(column= 'chol', bins=50) #بین رو 40 گذاشتیم روی محور افقی هرکدوم از خطای کوچیک 50 هستند\n"
   ]
  },
  {
   "cell_type": "code",
   "execution_count": 21,
   "id": "97b78688",
   "metadata": {},
   "outputs": [
    {
     "data": {
      "text/plain": [
       "Index(['age', 'sex', 'cp', 'trtbps', 'chol', 'fbs', 'restecg', 'thalachh',\n",
       "       'exng', 'oldpeak', 'slp', 'caa', 'thall', 'output'],\n",
       "      dtype='object')"
      ]
     },
     "execution_count": 21,
     "metadata": {},
     "output_type": "execute_result"
    }
   ],
   "source": [
    "#یه نگاه به ستونهایمان می اندازیم\n",
    "\n",
    "df.columns"
   ]
  },
  {
   "cell_type": "markdown",
   "id": "d2c038d3",
   "metadata": {},
   "source": [
    "\n",
    "# یک نکته مهم اینه که ما فایل داده ها را با پانداز خوندیم. اما سایکیت لرن با نامپای کار میکنه.\n",
    "\n",
    "### پانداز داده ها رو به صورت خوشگل و جدولی میخونه که بالاتر دیدیم\n",
    "### اما نامپای میاد ارایه هایی از ارایه ها درست میکنه تا سایکیت لرن بتونه باهاشون کار کنه"
   ]
  },
  {
   "cell_type": "code",
   "execution_count": 22,
   "id": "ff214a81",
   "metadata": {},
   "outputs": [
    {
     "data": {
      "text/plain": [
       "array([[ 63. ,   1. ,   3. , 145. , 233. ,   1. ,   0. , 150. ,   0. ,\n",
       "          2.3,   0. ,   0. ,   1. ],\n",
       "       [ 37. ,   1. ,   2. , 130. , 250. ,   0. ,   1. , 187. ,   0. ,\n",
       "          3.5,   0. ,   0. ,   2. ],\n",
       "       [ 41. ,   0. ,   1. , 130. , 204. ,   0. ,   0. , 172. ,   0. ,\n",
       "          1.4,   2. ,   0. ,   2. ],\n",
       "       [ 56. ,   1. ,   1. , 120. , 236. ,   0. ,   1. , 178. ,   0. ,\n",
       "          0.8,   2. ,   0. ,   2. ],\n",
       "       [ 57. ,   0. ,   0. , 120. , 354. ,   0. ,   1. , 163. ,   1. ,\n",
       "          0.6,   2. ,   0. ,   2. ]])"
      ]
     },
     "execution_count": 22,
     "metadata": {},
     "output_type": "execute_result"
    }
   ],
   "source": [
    "# میایم فایل داده ها رو میبریم به فضای نامپای \n",
    "X = df[['age', 'sex', 'cp', 'trtbps', 'chol', 'fbs', 'restecg', 'thalachh','exng', 'oldpeak', 'slp', 'caa', 'thall',]] .values \n",
    "X[0:5]"
   ]
  },
  {
   "cell_type": "code",
   "execution_count": 23,
   "id": "ea0a1d5b",
   "metadata": {},
   "outputs": [
    {
     "data": {
      "text/plain": [
       "array([[1],\n",
       "       [1],\n",
       "       [1],\n",
       "       [1],\n",
       "       [1]], dtype=int64)"
      ]
     },
     "execution_count": 23,
     "metadata": {},
     "output_type": "execute_result"
    }
   ],
   "source": [
    "# همچنین طبقه بندی نهایی رو هم به عنوان ایگرگ جدا میکنیم\n",
    "y=df[['output']].values\n",
    "y[0:5]"
   ]
  },
  {
   "cell_type": "code",
   "execution_count": 24,
   "id": "28085895",
   "metadata": {},
   "outputs": [],
   "source": [
    "# حالا میایم داده ها رو روی منحنی نرمال استاندارد نرمالیزه می کنیم\n"
   ]
  },
  {
   "cell_type": "code",
   "execution_count": 26,
   "id": "9501c221",
   "metadata": {},
   "outputs": [
    {
     "name": "stdout",
     "output_type": "stream",
     "text": [
      "[[ 0.9521966   0.68100522  1.97312292  0.76395577 -0.25633371  2.394438\n",
      "  -1.00583187  0.01544279 -0.69663055  1.08733806 -2.27457861 -0.71442887\n",
      "  -2.14887271]\n",
      " [-1.91531289  0.68100522  1.00257707 -0.09273778  0.07219949 -0.41763453\n",
      "   0.89896224  1.63347147 -0.69663055  2.12257273 -2.27457861 -0.71442887\n",
      "  -0.51292188]]\n"
     ]
    }
   ],
   "source": [
    "scaler = preprocessing.StandardScaler().fit(X)\n",
    "X=scaler.transform(X.astype(float))\n",
    "print(X[0:2])"
   ]
  },
  {
   "cell_type": "markdown",
   "id": "de906297",
   "metadata": {},
   "source": [
    "## Splitting our data"
   ]
  },
  {
   "cell_type": "code",
   "execution_count": 27,
   "id": "faf2d683",
   "metadata": {},
   "outputs": [
    {
     "name": "stdout",
     "output_type": "stream",
     "text": [
      "Train set: (242, 13) (242, 1)\n",
      "Test set: (61, 13) (61, 1)\n"
     ]
    }
   ],
   "source": [
    "from sklearn.model_selection import train_test_split\n",
    "\n",
    "X_train, X_test, y_train, y_test = train_test_split( X, y, test_size=0.2, random_state=4)\n",
    "\n",
    "print ('Train set:', X_train.shape,  y_train.shape)\n",
    "print ('Test set:', X_test.shape,  y_test.shape)"
   ]
  },
  {
   "cell_type": "markdown",
   "id": "0c78b9e1",
   "metadata": {},
   "source": [
    "## Classification"
   ]
  },
  {
   "cell_type": "code",
   "execution_count": 28,
   "id": "629ed65f",
   "metadata": {},
   "outputs": [],
   "source": [
    "from sklearn.neighbors import KNeighborsClassifier"
   ]
  },
  {
   "cell_type": "markdown",
   "id": "1d924144",
   "metadata": {},
   "source": [
    "## lets go for training"
   ]
  },
  {
   "cell_type": "code",
   "execution_count": 29,
   "id": "48102688",
   "metadata": {},
   "outputs": [
    {
     "name": "stderr",
     "output_type": "stream",
     "text": [
      "C:\\Users\\Mohammad\\anaconda3\\lib\\site-packages\\sklearn\\neighbors\\_classification.py:198: DataConversionWarning: A column-vector y was passed when a 1d array was expected. Please change the shape of y to (n_samples,), for example using ravel().\n",
      "  return self._fit(X, y)\n"
     ]
    },
    {
     "data": {
      "text/plain": [
       "KNeighborsClassifier()"
      ]
     },
     "execution_count": 29,
     "metadata": {},
     "output_type": "execute_result"
    }
   ],
   "source": [
    "# lets put k=5\n",
    "k = 5\n",
    "\n",
    "#Train Model and Predict  \n",
    "neigh = KNeighborsClassifier(n_neighbors = k).fit(X_train,y_train)\n",
    "neigh"
   ]
  },
  {
   "cell_type": "markdown",
   "id": "a90ec2c7",
   "metadata": {},
   "source": [
    "## Predicting:"
   ]
  },
  {
   "cell_type": "code",
   "execution_count": 30,
   "id": "bbe0627b",
   "metadata": {},
   "outputs": [
    {
     "data": {
      "text/plain": [
       "array([0, 0, 1, 1, 0], dtype=int64)"
      ]
     },
     "execution_count": 30,
     "metadata": {},
     "output_type": "execute_result"
    }
   ],
   "source": [
    "yhat = neigh.predict(X_test)\n",
    "yhat[0:5]"
   ]
  },
  {
   "cell_type": "code",
   "execution_count": 31,
   "id": "95bf847e",
   "metadata": {},
   "outputs": [
    {
     "name": "stdout",
     "output_type": "stream",
     "text": [
      "[[1]\n",
      " [1]\n",
      " [1]\n",
      " [1]\n",
      " [1]]\n",
      "[0 0 1 1 0]\n"
     ]
    }
   ],
   "source": [
    "# میتونیم توی چند تا داده اول مقایسه کنیم بین مقادیر واقعی و پیش بینی شده\n",
    "print(y[0:5])\n",
    "print(yhat[0:5])"
   ]
  },
  {
   "cell_type": "markdown",
   "id": "a03054ad",
   "metadata": {},
   "source": [
    "## Accuracy evaluation"
   ]
  },
  {
   "cell_type": "code",
   "execution_count": 32,
   "id": "90dbcbf3",
   "metadata": {},
   "outputs": [
    {
     "name": "stdout",
     "output_type": "stream",
     "text": [
      "Train set Accuracy:  0.871900826446281\n",
      "Test set Accuracy:  0.8032786885245902\n"
     ]
    }
   ],
   "source": [
    "# اینجا از شاخص جاکار برای تعیین صحت الگوریتم استفاده میکنیم\n",
    "\n",
    "from sklearn import metrics\n",
    "print(\"Train set Accuracy: \", metrics.accuracy_score(y_train, neigh.predict(X_train)))\n",
    "print(\"Test set Accuracy: \", metrics.accuracy_score(y_test, yhat))"
   ]
  },
  {
   "cell_type": "markdown",
   "id": "079277a7",
   "metadata": {},
   "source": [
    "# یه نکته مهم اینه که باید صحت الگوریتم رو به ازای مقادر مختلف کی حساب کنیم\n",
    "* پس میایم مقادیر صحت این الگوریتم رو بر اساس مقادیر مختلف کی میسنجیم"
   ]
  },
  {
   "cell_type": "code",
   "execution_count": 33,
   "id": "94fdb2fe",
   "metadata": {},
   "outputs": [
    {
     "name": "stderr",
     "output_type": "stream",
     "text": [
      "C:\\Users\\Mohammad\\anaconda3\\lib\\site-packages\\sklearn\\neighbors\\_classification.py:198: DataConversionWarning: A column-vector y was passed when a 1d array was expected. Please change the shape of y to (n_samples,), for example using ravel().\n",
      "  return self._fit(X, y)\n",
      "C:\\Users\\Mohammad\\anaconda3\\lib\\site-packages\\sklearn\\neighbors\\_classification.py:198: DataConversionWarning: A column-vector y was passed when a 1d array was expected. Please change the shape of y to (n_samples,), for example using ravel().\n",
      "  return self._fit(X, y)\n",
      "C:\\Users\\Mohammad\\anaconda3\\lib\\site-packages\\sklearn\\neighbors\\_classification.py:198: DataConversionWarning: A column-vector y was passed when a 1d array was expected. Please change the shape of y to (n_samples,), for example using ravel().\n",
      "  return self._fit(X, y)\n",
      "C:\\Users\\Mohammad\\anaconda3\\lib\\site-packages\\sklearn\\neighbors\\_classification.py:198: DataConversionWarning: A column-vector y was passed when a 1d array was expected. Please change the shape of y to (n_samples,), for example using ravel().\n",
      "  return self._fit(X, y)\n",
      "C:\\Users\\Mohammad\\anaconda3\\lib\\site-packages\\sklearn\\neighbors\\_classification.py:198: DataConversionWarning: A column-vector y was passed when a 1d array was expected. Please change the shape of y to (n_samples,), for example using ravel().\n",
      "  return self._fit(X, y)\n",
      "C:\\Users\\Mohammad\\anaconda3\\lib\\site-packages\\sklearn\\neighbors\\_classification.py:198: DataConversionWarning: A column-vector y was passed when a 1d array was expected. Please change the shape of y to (n_samples,), for example using ravel().\n",
      "  return self._fit(X, y)\n",
      "C:\\Users\\Mohammad\\anaconda3\\lib\\site-packages\\sklearn\\neighbors\\_classification.py:198: DataConversionWarning: A column-vector y was passed when a 1d array was expected. Please change the shape of y to (n_samples,), for example using ravel().\n",
      "  return self._fit(X, y)\n",
      "C:\\Users\\Mohammad\\anaconda3\\lib\\site-packages\\sklearn\\neighbors\\_classification.py:198: DataConversionWarning: A column-vector y was passed when a 1d array was expected. Please change the shape of y to (n_samples,), for example using ravel().\n",
      "  return self._fit(X, y)\n",
      "C:\\Users\\Mohammad\\anaconda3\\lib\\site-packages\\sklearn\\neighbors\\_classification.py:198: DataConversionWarning: A column-vector y was passed when a 1d array was expected. Please change the shape of y to (n_samples,), for example using ravel().\n",
      "  return self._fit(X, y)\n"
     ]
    },
    {
     "data": {
      "text/plain": [
       "array([0.7704918 , 0.7704918 , 0.80327869, 0.80327869, 0.80327869,\n",
       "       0.81967213, 0.83606557, 0.81967213, 0.81967213])"
      ]
     },
     "execution_count": 33,
     "metadata": {},
     "output_type": "execute_result"
    }
   ],
   "source": [
    "Ks = 10\n",
    "mean_acc = np.zeros((Ks-1))\n",
    "std_acc = np.zeros((Ks-1))\n",
    "\n",
    "for n in range(1,Ks):\n",
    "    \n",
    "    #Train Model and Predict  \n",
    "    neigh = KNeighborsClassifier(n_neighbors = n).fit(X_train,y_train)\n",
    "    yhat=neigh.predict(X_test)\n",
    "    mean_acc[n-1] = metrics.accuracy_score(y_test, yhat)\n",
    "\n",
    "    \n",
    "    std_acc[n-1]=np.std(yhat==y_test)/np.sqrt(yhat.shape[0])\n",
    "\n",
    "mean_acc"
   ]
  },
  {
   "cell_type": "markdown",
   "id": "ed5bee55",
   "metadata": {},
   "source": [
    "## Plot the model accuracy for a different number of neighbors"
   ]
  },
  {
   "cell_type": "code",
   "execution_count": 34,
   "id": "18180595",
   "metadata": {},
   "outputs": [
    {
     "data": {
      "image/png": "[encoded data removed]",
      "text/plain": [
       "<Figure size 432x288 with 1 Axes>"
      ]
     },
     "metadata": {
      "needs_background": "light"
     },
     "output_type": "display_data"
    }
   ],
   "source": [
    "plt.plot(range(1,Ks),mean_acc,'b')\n",
    "plt.fill_between(range(1,Ks),mean_acc - 1 * std_acc,mean_acc + 1 * std_acc, alpha=0.10)\n",
    "plt.fill_between(range(1,Ks),mean_acc - 3 * std_acc,mean_acc + 3 * std_acc, alpha=0.10,color=\"green\")\n",
    "plt.legend(('Accuracy ', '+/- 1xstd','+/- 3xstd'))\n",
    "plt.ylabel('Accuracy ')\n",
    "plt.xlabel('Number of Neighbors (K)')\n",
    "plt.tight_layout()\n",
    "plt.show()"
   ]
  },
  {
   "cell_type": "markdown",
   "id": "368a009d",
   "metadata": {},
   "source": [
    "# .........Final evaluation of KNN algorithm........."
   ]
  },
  {
   "cell_type": "code",
   "execution_count": 35,
   "id": "b735cd23",
   "metadata": {},
   "outputs": [
    {
     "name": "stdout",
     "output_type": "stream",
     "text": [
      "The best accuracy was with 0.8360655737704918 with k= 7\n"
     ]
    }
   ],
   "source": [
    "print( \"The best accuracy was with\", mean_acc.max(), \"with k=\", mean_acc.argmax()+1) "
   ]
  }
 ],
 "metadata": {
  "kernelspec": {
   "display_name": "Python 3 (ipykernel)",
   "language": "python",
   "name": "python3"
  },
  "language_info": {
   "codemirror_mode": {
    "name": "ipython",
    "version": 3
   },
   "file_extension": ".py",
   "mimetype": "text/x-python",
   "name": "python",
   "nbconvert_exporter": "python",
   "pygments_lexer": "ipython3",
   "version": "3.9.12"
  }
 },
 "nbformat": 4,
 "nbformat_minor": 5
}
