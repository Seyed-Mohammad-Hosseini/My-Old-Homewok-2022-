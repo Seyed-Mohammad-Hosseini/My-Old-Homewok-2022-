{
 "cells": [
  {
   "cell_type": "code",
   "execution_count": 2,
   "id": "a73f08ea",
   "metadata": {},
   "outputs": [
    {
     "data": {
      "text/html": [
       "<div>\n",
       "<style scoped>\n",
       "    .dataframe tbody tr th:only-of-type {\n",
       "        vertical-align: middle;\n",
       "    }\n",
       "\n",
       "    .dataframe tbody tr th {\n",
       "        vertical-align: top;\n",
       "    }\n",
       "\n",
       "    .dataframe thead th {\n",
       "        text-align: right;\n",
       "    }\n",
       "</style>\n",
       "<table border=\"1\" class=\"dataframe\">\n",
       "  <thead>\n",
       "    <tr style=\"text-align: right;\">\n",
       "      <th></th>\n",
       "      <th>Name</th>\n",
       "      <th>OS</th>\n",
       "      <th>Capacity</th>\n",
       "      <th>Ram</th>\n",
       "      <th>Weight</th>\n",
       "      <th>Company</th>\n",
       "      <th>inch</th>\n",
       "    </tr>\n",
       "  </thead>\n",
       "  <tbody>\n",
       "    <tr>\n",
       "      <th>0</th>\n",
       "      <td>Galaxy S8</td>\n",
       "      <td>Android</td>\n",
       "      <td>64</td>\n",
       "      <td>4</td>\n",
       "      <td>149.0</td>\n",
       "      <td>Samsung</td>\n",
       "      <td>5.8</td>\n",
       "    </tr>\n",
       "    <tr>\n",
       "      <th>1</th>\n",
       "      <td>Lumia 950</td>\n",
       "      <td>windows</td>\n",
       "      <td>32</td>\n",
       "      <td>3</td>\n",
       "      <td>150.0</td>\n",
       "      <td>Microsoft</td>\n",
       "      <td>5.2</td>\n",
       "    </tr>\n",
       "    <tr>\n",
       "      <th>2</th>\n",
       "      <td>Xpreia L1</td>\n",
       "      <td>Android</td>\n",
       "      <td>16</td>\n",
       "      <td>2</td>\n",
       "      <td>180.0</td>\n",
       "      <td>Sony</td>\n",
       "      <td>5.5</td>\n",
       "    </tr>\n",
       "    <tr>\n",
       "      <th>3</th>\n",
       "      <td>iphone 7</td>\n",
       "      <td>ios</td>\n",
       "      <td>128</td>\n",
       "      <td>2</td>\n",
       "      <td>138.0</td>\n",
       "      <td>Apple</td>\n",
       "      <td>4.7</td>\n",
       "    </tr>\n",
       "    <tr>\n",
       "      <th>4</th>\n",
       "      <td>U Ultra</td>\n",
       "      <td>Android</td>\n",
       "      <td>64</td>\n",
       "      <td>4</td>\n",
       "      <td>170.0</td>\n",
       "      <td>HTC</td>\n",
       "      <td>5.7</td>\n",
       "    </tr>\n",
       "    <tr>\n",
       "      <th>5</th>\n",
       "      <td>Galaxy S5</td>\n",
       "      <td>Android</td>\n",
       "      <td>16</td>\n",
       "      <td>2</td>\n",
       "      <td>145.0</td>\n",
       "      <td>Samsung</td>\n",
       "      <td>5.1</td>\n",
       "    </tr>\n",
       "    <tr>\n",
       "      <th>6</th>\n",
       "      <td>iphone 5s</td>\n",
       "      <td>ios</td>\n",
       "      <td>32</td>\n",
       "      <td>1</td>\n",
       "      <td>112.0</td>\n",
       "      <td>Apple</td>\n",
       "      <td>4.0</td>\n",
       "    </tr>\n",
       "    <tr>\n",
       "      <th>7</th>\n",
       "      <td>Moto G5</td>\n",
       "      <td>Android</td>\n",
       "      <td>16</td>\n",
       "      <td>3</td>\n",
       "      <td>144.5</td>\n",
       "      <td>Motorola</td>\n",
       "      <td>5.0</td>\n",
       "    </tr>\n",
       "    <tr>\n",
       "      <th>8</th>\n",
       "      <td>Pixel</td>\n",
       "      <td>Android</td>\n",
       "      <td>128</td>\n",
       "      <td>4</td>\n",
       "      <td>143.0</td>\n",
       "      <td>Google</td>\n",
       "      <td>5.0</td>\n",
       "    </tr>\n",
       "  </tbody>\n",
       "</table>\n",
       "</div>"
      ],
      "text/plain": [
       "        Name        OS  Capacity  Ram  Weight    Company  inch\n",
       "0  Galaxy S8   Android        64    4   149.0    Samsung   5.8\n",
       "1  Lumia 950  windows         32    3   150.0  Microsoft   5.2\n",
       "2  Xpreia L1   Android        16    2   180.0       Sony   5.5\n",
       "3  iphone 7        ios       128    2   138.0      Apple   4.7\n",
       "4    U Ultra   Android        64    4   170.0        HTC   5.7\n",
       "5  Galaxy S5   Android        16    2   145.0    Samsung   5.1\n",
       "6  iphone 5s       ios        32    1   112.0      Apple   4.0\n",
       "7    Moto G5   Android        16    3   144.5   Motorola   5.0\n",
       "8     Pixel    Android       128    4   143.0     Google   5.0"
      ]
     },
     "execution_count": 2,
     "metadata": {},
     "output_type": "execute_result"
    }
   ],
   "source": [
    "import numpy as np\n",
    "import pandas as pd\n",
    "import matplotlib.pyplot as plt\n",
    "import seaborn as sb\n",
    "smartphones=pd.read_csv('C://Users//Mohammad//smartphones.csv')\n",
    "smartphones"
   ]
  },
  {
   "cell_type": "code",
   "execution_count": 5,
   "id": "5da3f201",
   "metadata": {},
   "outputs": [
    {
     "data": {
      "image/png": "[encoded data removed]",
      "text/plain": [
       "<Figure size 432x288 with 1 Axes>"
      ]
     },
     "metadata": {
      "needs_background": "light"
     },
     "output_type": "display_data"
    }
   ],
   "source": [
    "count=smartphones.Ram.value_counts()\n",
    "category=count.index\n",
    "plt.bar(category, count)\n",
    "plt.xlabel ('Ram')\n",
    "plt.ylabel('counts')\n",
    "plt.xticks([1,2,3,4])\n",
    "plt.yticks([1,2,3])\n",
    "plt.show()"
   ]
  },
  {
   "cell_type": "code",
   "execution_count": 6,
   "id": "a43b9e74",
   "metadata": {},
   "outputs": [],
   "source": [
    "#ECDS(نمودار توزیع تجمعی)\n",
    "def ECDF (data):\n",
    "    n=len(data)\n",
    "    x=np.sort(data)\n",
    "    y=np.arange(1,n+1)/n\n",
    "    return x,y"
   ]
  },
  {
   "cell_type": "code",
   "execution_count": 11,
   "id": "341bdec0",
   "metadata": {},
   "outputs": [
    {
     "data": {
      "text/plain": [
       "array([4. , 4.7, 5. , 5. , 5.1, 5.2, 5.5, 5.7, 5.8])"
      ]
     },
     "execution_count": 11,
     "metadata": {},
     "output_type": "execute_result"
    }
   ],
   "source": [
    "x,y=ECDF(smartphones.inch)\n",
    "x"
   ]
  },
  {
   "cell_type": "code",
   "execution_count": 19,
   "id": "3fdbb4c0",
   "metadata": {},
   "outputs": [
    {
     "data": {
      "image/png": "[encoded data removed]",
      "text/plain": [
       "<Figure size 432x288 with 1 Axes>"
      ]
     },
     "metadata": {
      "needs_background": "light"
     },
     "output_type": "display_data"
    },
    {
     "data": {
      "text/plain": [
       "<Figure size 792x576 with 0 Axes>"
      ]
     },
     "metadata": {},
     "output_type": "display_data"
    }
   ],
   "source": [
    "plt.scatter(x,y,s=80)\n",
    "plt.margins(0.05)\n",
    "plt.grid()\n",
    "plt.xlabel('inch',fontsize=15)\n",
    "plt.ylabel('ECDF',fontsize=15)\n",
    "plt.figure(figsize=(11,8))\n",
    "plt.show()"
   ]
  },
  {
   "cell_type": "code",
   "execution_count": 21,
   "id": "4d48228c",
   "metadata": {},
   "outputs": [
    {
     "data": {
      "text/plain": [
       "5.111111111111111"
      ]
     },
     "execution_count": 21,
     "metadata": {},
     "output_type": "execute_result"
    }
   ],
   "source": [
    "# mean, median, percentile\n",
    "np.mean(smartphones.inch)"
   ]
  },
  {
   "cell_type": "code",
   "execution_count": 25,
   "id": "c4614a63",
   "metadata": {},
   "outputs": [
    {
     "data": {
      "text/plain": [
       "5.1"
      ]
     },
     "execution_count": 25,
     "metadata": {},
     "output_type": "execute_result"
    }
   ],
   "source": [
    "np.median(smartphones.inch)"
   ]
  },
  {
   "cell_type": "code",
   "execution_count": 27,
   "id": "bc0dca37",
   "metadata": {},
   "outputs": [
    {
     "data": {
      "text/plain": [
       "array([5. , 5.1, 5.5])"
      ]
     },
     "execution_count": 27,
     "metadata": {},
     "output_type": "execute_result"
    }
   ],
   "source": [
    "np.percentile(smartphones.inch,[25,50,75])"
   ]
  },
  {
   "cell_type": "code",
   "execution_count": 29,
   "id": "c33119d4",
   "metadata": {},
   "outputs": [
    {
     "data": {
      "text/plain": [
       "1.0617283950617284"
      ]
     },
     "execution_count": 29,
     "metadata": {},
     "output_type": "execute_result"
    }
   ],
   "source": [
    "np.var(smartphones.Ram)"
   ]
  },
  {
   "cell_type": "code",
   "execution_count": 31,
   "id": "1d8a3403",
   "metadata": {},
   "outputs": [
    {
     "data": {
      "text/plain": [
       "1.0304020550550783"
      ]
     },
     "execution_count": 31,
     "metadata": {},
     "output_type": "execute_result"
    }
   ],
   "source": [
    "np.std(smartphones.Ram)"
   ]
  },
  {
   "cell_type": "code",
   "execution_count": 34,
   "id": "91debb3f",
   "metadata": {},
   "outputs": [
    {
     "data": {
      "text/plain": [
       "array([[3.01111111e-01, 8.91944444e+00],\n",
       "       [8.91944444e+00, 3.69402778e+02]])"
      ]
     },
     "execution_count": 34,
     "metadata": {},
     "output_type": "execute_result"
    }
   ],
   "source": [
    "np.cov(smartphones.inch, smartphones.Weight)"
   ]
  },
  {
   "cell_type": "code",
   "execution_count": 43,
   "id": "55780c99",
   "metadata": {},
   "outputs": [
    {
     "data": {
      "image/png": "[encoded data removed]",
      "text/plain": [
       "<Figure size 432x288 with 1 Axes>"
      ]
     },
     "metadata": {
      "needs_background": "light"
     },
     "output_type": "display_data"
    }
   ],
   "source": [
    "x=smartphones.Weight\n",
    "y=smartphones.inch\n",
    "plt.scatter(x,y)\n",
    "plt.show()"
   ]
  },
  {
   "cell_type": "code",
   "execution_count": 44,
   "id": "230e809b",
   "metadata": {},
   "outputs": [
    {
     "data": {
      "image/png": "[encoded data removed]",
      "text/plain": [
       "<Figure size 720x720 with 20 Axes>"
      ]
     },
     "metadata": {
      "needs_background": "light"
     },
     "output_type": "display_data"
    }
   ],
   "source": [
    "sb.pairplot(smartphones)\n",
    "plt.show()"
   ]
  }
 ],
 "metadata": {
  "kernelspec": {
   "display_name": "Python 3 (ipykernel)",
   "language": "python",
   "name": "python3"
  },
  "language_info": {
   "codemirror_mode": {
    "name": "ipython",
    "version": 3
   },
   "file_extension": ".py",
   "mimetype": "text/x-python",
   "name": "python",
   "nbconvert_exporter": "python",
   "pygments_lexer": "ipython3",
   "version": "3.9.12"
  }
 },
 "nbformat": 4,
 "nbformat_minor": 5
}
