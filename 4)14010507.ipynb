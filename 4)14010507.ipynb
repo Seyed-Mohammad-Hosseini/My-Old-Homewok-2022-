{
 "cells": [
  {
   "cell_type": "code",
   "execution_count": 1,
   "id": "fa30d1b3",
   "metadata": {},
   "outputs": [],
   "source": [
    "#Pseudo Random number Generator\n",
    "import numpy as np\n",
    "import pandas as pd\n",
    "import matplotlib.pyplot as plt\n",
    "import seaborn as sb\n"
   ]
  },
  {
   "cell_type": "code",
   "execution_count": 12,
   "id": "967a21cf",
   "metadata": {},
   "outputs": [
    {
     "data": {
      "text/plain": [
       "array([0.28730518, 0.45035059, 0.30391231])"
      ]
     },
     "execution_count": 12,
     "metadata": {},
     "output_type": "execute_result"
    }
   ],
   "source": [
    "rand_num = np.random.random(3)\n",
    "rand_num"
   ]
  },
  {
   "cell_type": "code",
   "execution_count": 13,
   "id": "3544654b",
   "metadata": {},
   "outputs": [
    {
     "name": "stdout",
     "output_type": "stream",
     "text": [
      "[ True  True False]\n",
      "[0.40768703 0.05536604]\n"
     ]
    }
   ],
   "source": [
    "#اگر از سید استفاده کنیم انگاه دیگر اعداد تصادفی ما به تکرار ران کردن تغییری نمیکنن\n",
    "#واسه همین میگیم pseudo random number generation\n",
    "np.random.seed(40)\n",
    "rand_num = np.random.random(3)\n",
    "rand_num\n",
    "win = rand_num < 0.5\n",
    "print(win)\n",
    "print(rand_num[win])"
   ]
  },
  {
   "cell_type": "code",
   "execution_count": 3,
   "id": "6f18f332",
   "metadata": {},
   "outputs": [
    {
     "name": "stdout",
     "output_type": "stream",
     "text": [
      "0.51\n"
     ]
    }
   ],
   "source": [
    "import numpy as np\n",
    "num_trial = 1000\n",
    "rand_num = np.random.random(size=num_trial)\n",
    "win = rand_num > 0.5\n",
    "num_win = np.sum(win)\n",
    "print(num_win/num_trial)"
   ]
  },
  {
   "cell_type": "code",
   "execution_count": 20,
   "id": "f9624cc3",
   "metadata": {},
   "outputs": [
    {
     "name": "stdout",
     "output_type": "stream",
     "text": [
      "dice is 5 and you are in step 1\n"
     ]
    }
   ],
   "source": [
    "#Game\n",
    "\n",
    "step=0\n",
    "\n",
    "dice= np.random.randint(1,7)\n",
    "\n",
    "if dice<3:\n",
    "    step=max(0, step+1)\n",
    "elif dice <=5:\n",
    "    step=step+1\n",
    "else:\n",
    "    num=np.random.randint(1,7)\n",
    "    step=step+num\n",
    "    \n",
    "print('dice is {} and you are in step {}'. format(dice,step))"
   ]
  },
  {
   "cell_type": "code",
   "execution_count": 31,
   "id": "0820d21e",
   "metadata": {},
   "outputs": [
    {
     "name": "stdout",
     "output_type": "stream",
     "text": [
      "dice is 6 and you are in step 142\n"
     ]
    }
   ],
   "source": [
    "#random walk\n",
    "\n",
    "step=0\n",
    "rand_walk = np.empty(0)\n",
    "\n",
    "for i in range (100):\n",
    "    dice= np.random.randint(1,7)\n",
    "\n",
    "    if dice<3:\n",
    "        step=max(0, step+1)\n",
    "    elif dice <=5:\n",
    "        step=step+1\n",
    "    else:\n",
    "        num=np.random.randint(1,7)\n",
    "        step=step+num\n",
    "    rand_walk = np.append(rand_walk, step)\n",
    "print('dice is {} and you are in step {}'.format(dice,step))"
   ]
  },
  {
   "cell_type": "code",
   "execution_count": 35,
   "id": "01b0aa8a",
   "metadata": {},
   "outputs": [
    {
     "data": {
      "image/png": "[encoded data removed]",
      "text/plain": [
       "<Figure size 576x288 with 1 Axes>"
      ]
     },
     "metadata": {
      "needs_background": "light"
     },
     "output_type": "display_data"
    }
   ],
   "source": [
    "import matplotlib.pyplot as plt\n",
    "plt.figure(figsize=(8,4))\n",
    "plt.step(np.arange(100),rand_walk)\n",
    "plt.show()"
   ]
  },
  {
   "cell_type": "code",
   "execution_count": 39,
   "id": "9a628030",
   "metadata": {},
   "outputs": [
    {
     "name": "stderr",
     "output_type": "stream",
     "text": [
      "C:\\Users\\Mohammad\\anaconda3\\lib\\site-packages\\seaborn\\distributions.py:2619: FutureWarning: `distplot` is a deprecated function and will be removed in a future version. Please adapt your code to use either `displot` (a figure-level function with similar flexibility) or `histplot` (an axes-level function for histograms).\n",
      "  warnings.warn(msg, FutureWarning)\n"
     ]
    },
    {
     "data": {
      "image/png": "[encoded data removed]",
      "text/plain": [
       "<Figure size 432x288 with 1 Axes>"
      ]
     },
     "metadata": {
      "needs_background": "light"
     },
     "output_type": "display_data"
    }
   ],
   "source": [
    "#توزیع نرمال\n",
    "import seaborn as sb\n",
    "samples = np.random.normal(20,1,size=100000)\n",
    "sb.distplot(samples)\n",
    "plt.show()"
   ]
  }
 ],
 "metadata": {
  "kernelspec": {
   "display_name": "Python 3 (ipykernel)",
   "language": "python",
   "name": "python3"
  },
  "language_info": {
   "codemirror_mode": {
    "name": "ipython",
    "version": 3
   },
   "file_extension": ".py",
   "mimetype": "text/x-python",
   "name": "python",
   "nbconvert_exporter": "python",
   "pygments_lexer": "ipython3",
   "version": "3.9.12"
  }
 },
 "nbformat": 4,
 "nbformat_minor": 5
}
